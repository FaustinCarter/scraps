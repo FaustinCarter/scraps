{
 "cells": [
  {
   "cell_type": "markdown",
   "metadata": {},
   "source": [
    "Example 2: Analysis of a resonator from W63\n",
    "======================\n",
    "\n",
    "**By: Faustin Carter, 2016**\n",
    "\n",
    "This notebook imports the data from the Agilent files, creates resonator objects from each datafile, packs those objects into a list, runs a semi-intelligent fitting algorithm predicated on the fact that things don't change too much from one temperature to the next, and then plots the data and fit curves in a nice way.\n",
    "\n",
    "Once you've understood this example, you should be able to replicate it with your own data simply be writing a custom process_file function and updating the code that finds the datafiles.\n",
    "\n",
    "\n",
    "Note: Before starting this example, you'll want to read up on list comprehensions and Python's built-in `map` method if you aren't already familiar with them."
   ]
  },
  {
   "cell_type": "code",
   "execution_count": 1,
   "metadata": {
    "collapsed": false
   },
   "outputs": [],
   "source": [
    "#import all the necessary libraries\n",
    "\n",
    "#For inline notebook figures\n",
    "%matplotlib inline\n",
    "\n",
    "#For high-res figures\n",
    "%config InlineBackend.figure_format = 'retina' \n",
    "import glob #For easy file grabbing\n",
    "import numpy as np\n",
    "import matplotlib.pyplot as plt\n",
    "import matplotlib.gridspec as gs #For plot arrangement\n",
    "import seaborn as sns #For pretty plots\n",
    "\n",
    "#Some code to make plots pretty\n",
    "sns.set_context(\"poster\") #This makes all the text bigger automatically\n",
    "sns.set_style(\"ticks\",{\"xtick.direction\" : u\"in\",\"ytick.direction\" : u\"in\"})"
   ]
  },
  {
   "cell_type": "markdown",
   "metadata": {},
   "source": [
    "Load up the `pyRes` modules\n",
    "----------\n",
    "You'll need to change the path to reflect wherever you stored the code"
   ]
  },
  {
   "cell_type": "code",
   "execution_count": 2,
   "metadata": {
    "collapsed": false
   },
   "outputs": [],
   "source": [
    "#Add your personal repository to the $PATH\n",
    "import sys\n",
    "sys.path.append('/Users/fcarter/Dropbox/Code/Python/')\n",
    "\n",
    "#Load up the resonator class code\n",
    "\n",
    "#This is the main workhorse code here\n",
    "from pyRes import Resonator, makeResFromData, lmfitRes\n",
    "\n",
    "#Pre-packaged complex S21 fitting function with quadratic baseline removal\n",
    "from pyRes.fitsS21 import IQcircle\n",
    "\n",
    "#Some code to help deal with lists of resonator objects\n",
    "from pyRes.containers import indexResList\n",
    "\n",
    "#A routine to convert text files to data!\n",
    "from pyRes import process_file"
   ]
  },
  {
   "cell_type": "markdown",
   "metadata": {},
   "source": [
    "Load files and process data\n",
    "----\n",
    "This unpacks the file data into dict objects. This block of code is the only thing you need to change to make this work with your data."
   ]
  },
  {
   "cell_type": "code",
   "execution_count": 3,
   "metadata": {
    "collapsed": true
   },
   "outputs": [],
   "source": [
    "#Load in list of files to plot\n",
    "dataPath = './05162016Res/'\n",
    "\n",
    "#Define a resonator name. The data folder has data for RES-1, RES-2, RES-3, RES-4 so any of those will work.\n",
    "#Try changing the name to one of the others and rerun the notebook.\n",
    "resName = 'RES-1'\n",
    "\n",
    "#grab files for this resonator\n",
    "fileList = glob.glob(dataPath + '*' + resName + '_*' + '*')\n",
    "\n",
    "#loop through files and process all the data\n",
    "fileDataDicts = map(process_file, fileList)\n",
    "\n",
    "#Strip out any bad files\n",
    "fileDataDicts = [fileDataDict for fileDataDict in fileDataDicts if (fileDataDict is not None)]"
   ]
  },
  {
   "cell_type": "markdown",
   "metadata": {},
   "source": [
    "Make a list of Resonator objects\n",
    "-----------\n",
    "Lists are a great way to organize things. `pyRes` includes a tool for easily indexing lists of Resonator objects by temperature and power. Each object has a value called `itemp` that is just the experiment temperature rounded to the nearest 5 mK. This helps a lot with organizing data taken at the 'same' temperature that has fluctuations."
   ]
  },
  {
   "cell_type": "code",
   "execution_count": null,
   "metadata": {
    "collapsed": false
   },
   "outputs": [],
   "source": [
    "#Create resonator objects from the data\n",
    "#This uses pyRes's built-in makeResFromData tool\n",
    "resObjsTuple = [makeResFromData(fileDataDict) for fileDataDict in fileDataDicts]\n",
    "\n",
    "#Pack the resulting resonator objects in to a list of resonator objects\n",
    "resList, itemps, pwrs = map(list, zip(*resObjsTuple))\n",
    "\n",
    "#Create index vectors for all temps and pwrs in the experiment\n",
    "\n",
    "#itemp = temp rounded to the nearest 5 mK\n",
    "itempsList = np.unique(itemps)\n",
    "pwrsList = np.unique(pwrs)\n",
    "\n",
    "#Let's look at all the temperatures and powers in the experiment\n",
    "print 'number of resonators in list = ', len(resList)\n",
    "print 'temps = ', itempsList\n",
    "print 'powers = ', pwrsList      \n",
    "print 'temps x powers = ', len(itempsList)*len(pwrsList)\n",
    "\n",
    "#Can you figure out why the number of resonators in resList is different from temps*powers?\n",
    "#Hint: look in the data folder at the names of the data files and compare temperatures.\n",
    "\n",
    "#This difference is why it is always important to check and make sure the Resonator object you ask for 'is not None'\n",
    "#If you have a clever way to fix this issue, please tell me!"
   ]
  },
  {
   "cell_type": "markdown",
   "metadata": {},
   "source": [
    "Fit I and Q data to a model\n",
    "--------------\n",
    "This fits I and Q data simultaneously in a smart way. We assume that the lowest temperature data for any given power is the best, and use that as starting point. The best-fit values from that curve are then applied as guesses for the next temperature, and then the best fit values from that are used for the next, etc."
   ]
  },
  {
   "cell_type": "code",
   "execution_count": null,
   "metadata": {
    "collapsed": false
   },
   "outputs": [],
   "source": [
    "#Loop through each power\n",
    "for pwr in pwrsList:\n",
    "\n",
    "    #Fit the lowest temp curve at each power, and use that to help guess parameters for the next curve.\n",
    "    #The idea here is that the lowest temperature curve has the highest Q and the best signal to noise.\n",
    "    #Since curves don't change much with temperature, each previous succesful fit is used as the guess for the next.\n",
    "    for index, tval in enumerate(itempsList):\n",
    "\n",
    "        #Grab the index of the first Resonator object using the indexResList tool\n",
    "        resIndex = indexResList(resList, itempsList[index], pwr)\n",
    "        if resIndex is not None:\n",
    "            break #Quit the for loop as soon as we find the desired index\n",
    "\n",
    "    #Grab the desired Resonator object from the list, and use the lmfitRes tool to run the fit\n",
    "    res2fit = resList[resIndex]\n",
    "    lmfitRes(res2fit, IQcircle)\n",
    "\n",
    "    #If you want to set a custom value for qi or qc, use the code below instead of the line above\n",
    "    #lmfitRes(res2fit, IQcircle, qi=1e5, qc=1e4)\n",
    "\n",
    "    #Save the sucesful fit parameters so we can apply them to the next fit\n",
    "    lastParams = res2fit.S21result.params\n",
    "\n",
    "    #Loop through temperatures (except the first) and fit each S21 curve\n",
    "    for itmp in itempsList[1:]:\n",
    "\n",
    "        #Unpack the best fit values from the previous fit and use them as guesses\n",
    "        qiGuess = lastParams['qi'].value\n",
    "        qcGuess = lastParams['qc'].value\n",
    "        dfGuess = lastParams['df'].value\n",
    "        pg0Guess = lastParams['pgain0'].value\n",
    "\n",
    "        #Apply those guesses and fit each Resonator object\n",
    "        for res in resList:\n",
    "            #Could use indexResList here, but this is more efficient, and avoids having to check for 'is not None'\n",
    "            if res.itemp == itmp and res.pwr == pwr:\n",
    "                #Fit the Resonator\n",
    "                lmfitRes(res, IQcircle, qi=qiGuess, qc=qcGuess, df=dfGuess, pgain0=pg0Guess)\n",
    "                \n",
    "                #Update the parameters\n",
    "                lastParams = res.S21result.params"
   ]
  },
  {
   "cell_type": "markdown",
   "metadata": {},
   "source": [
    "Make a pretty plot\n",
    "---------\n",
    "Fits aren't worth anything if you don't plot the results!!"
   ]
  },
  {
   "cell_type": "code",
   "execution_count": null,
   "metadata": {
    "collapsed": false,
    "scrolled": false
   },
   "outputs": [],
   "source": [
    "#Lets look at plots from a single power value. Change this to look at other plots\n",
    "pval = -30\n",
    "\n",
    "#Set up a figure to overlay the |S21| fits and data\n",
    "figA = plt.figure()\n",
    "figA.set_size_inches(12,12)\n",
    "axMag = figA.add_subplot(221)\n",
    "axPhase = figA.add_subplot(222)\n",
    "\n",
    "\n",
    "#Make sure the colors look badass\n",
    "numTraces = int(np.ceil(len(resList)/len(pwrsList))) #Always round up!\n",
    "sns.set_palette(sns.color_palette(\"coolwarm\", numTraces))\n",
    "\n",
    "#Set an index for offsetting the traces in a fancy waterfall way\n",
    "index2=0\n",
    "\n",
    "#Loop through \n",
    "for index, tval in enumerate(itempsList):\n",
    "\n",
    "    #grab the right resonator object from the list\n",
    "    resIndex = indexResList(resList, tval, pval)\n",
    "\n",
    "    if resIndex is not None:\n",
    "        res = resList[resIndex]\n",
    "        axMag.plot((res.freq-res.S21result.params['f0'].value)*1e-6,10*np.log10(res.mag)+index2/2.0)\n",
    "        axMag.plot((res.freq-res.S21result.params['f0'].value)*1e-6,10*np.log10(res.resultMag)+index2/2.0, 'k--')\n",
    "        \n",
    "        axPhase.plot((res.freq-res.S21result.params['f0'].value)*1e-6,res.phase+index2/2.0)\n",
    "        axPhase.plot((res.freq-res.S21result.params['f0'].value)*1e-6,res.resultPhase+index2/2.0, 'k--')\n",
    "        \n",
    "        #Stack the next one up just a little bit more\n",
    "        index2+=1\n",
    "        \n",
    "axMag.set_xlabel('$f-f_0$ (MHz)')\n",
    "axMag.set_ylabel('$|S_{21}|$ (dB)')\n",
    "\n",
    "#Comment this out if you want to see the full curves\n",
    "axMag.set_xlim(-3,3)\n",
    "\n",
    "axPhase.set_xlabel('$f-f_0$ (MHz)')\n",
    "axPhase.set_ylabel('Phase (radians)')\n",
    "\n",
    "#Comment this out if you want to see the full curves\n",
    "axPhase.set_xlim(-3,3)"
   ]
  },
  {
   "cell_type": "code",
   "execution_count": null,
   "metadata": {
    "collapsed": true
   },
   "outputs": [],
   "source": [
    "#Save that figure in the local directory. You worked hard for it!\n",
    "figA.savefig('Mag-and-Phase-E2.png')"
   ]
  },
  {
   "cell_type": "markdown",
   "metadata": {},
   "source": [
    "Exercise 2.1:\n",
    "-----\n",
    "Using this notebook as a guide, implement code that will extend this analysis to an arbitrary number of resonators, and display the data for resonators 2-4 along with the one you just did. Instead of starting with `resName='RES-1'`, start with `resNames=['RES-1', 'RES-2', 'RES-3', 'RES-4']` and have the program run through all the resonators in the list, outputting the final figures for each resonator dynamically. You could use '`for resName in resNames:`' and go from there, with a few slight modifications along the way."
   ]
  },
  {
   "cell_type": "markdown",
   "metadata": {
    "collapsed": true
   },
   "source": [
    "Exercise 2.2:\n",
    "-----\n",
    "Use the `ResonatorSweep` container object to make a data structure from your list of `Resonator` objects (you'll need to import it from `pyResMC.containers`. Use this data to make a surface plot of resonant frequency as functions of temperature and power. In other words, the x-axis should be temperature, the y-axis should be power, and the color (or height, if you prefer) of each bin should correspond to the resonant frequency. You will likely want to read up a bit on `pandas` `DataFrame` objects, as the `ResonatorSweep` object is a dict of `DataFrame` objects.\n",
    "\n",
    "Once you have made this plot, it should be trivial to extend it to get plots of $Q_i$, $Q_c$, $\\chi^2$, etc..."
   ]
  },
  {
   "cell_type": "markdown",
   "metadata": {},
   "source": [
    "Exercise 2.3:\n",
    "-----\n",
    "Use the `ResonatorSweep` object that you made in the last Excersize to make a plot of frequency shift vs. temperature for each power, and overlay those plots on the same axis."
   ]
  },
  {
   "cell_type": "code",
   "execution_count": null,
   "metadata": {
    "collapsed": true
   },
   "outputs": [],
   "source": []
  }
 ],
 "metadata": {
  "kernelspec": {
   "display_name": "Python 2",
   "language": "python",
   "name": "python2"
  },
  "language_info": {
   "codemirror_mode": {
    "name": "ipython",
    "version": 2
   },
   "file_extension": ".py",
   "mimetype": "text/x-python",
   "name": "python",
   "nbconvert_exporter": "python",
   "pygments_lexer": "ipython2",
   "version": "2.7.11"
  }
 },
 "nbformat": 4,
 "nbformat_minor": 0
}
